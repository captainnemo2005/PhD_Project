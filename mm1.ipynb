{
 "cells": [
  {
   "cell_type": "code",
   "execution_count": 49,
   "metadata": {},
   "outputs": [],
   "source": [
    "import numpy as np\n",
    "\n",
    "class Simulation:\n",
    "    def __init__(self):\n",
    "        self.num_in_system = 0\n",
    "        \n",
    "        #Simulation Variables\n",
    "        self.clk = 0.0\n",
    "        self.t_arrival = self.generate_interarrival()\n",
    "        self.t_depart  = float('inf')\n",
    "        \n",
    "        #Statistical variables\n",
    "        self.num_arrival = 0\n",
    "        self.num_depart  = 0\n",
    "        self.total_wait  = 0.0 \n",
    "        \n",
    "    def advance_time(self):\n",
    "        t_event = min(self.t_arrival,self.t_depart)\n",
    "        \n",
    "        self.total_wait += self.num_in_system*(t_event - self.clk)\n",
    "        \n",
    "        self.clk = t_event\n",
    "        \n",
    "        if self.t_arrival <= self.t_depart:\n",
    "            self.handle_arrival_event()\n",
    "        else:\n",
    "            self.handle_depart_event()\n",
    "        \n",
    "    def handle_arrival_event(self):\n",
    "        self.num_in_system += 1\n",
    "        self.num_arrival   += 1\n",
    "        \n",
    "        if self.num_in_system >= 1:\n",
    "            self.t_depart = self.clk + self.generate_service()\n",
    "        self.t_arrival = self.clk + self.generate_interarrival()\n",
    "        \n",
    "    def handle_depart_event(self):\n",
    "        self.num_in_system -= 1\n",
    "        self.num_depart    += 1\n",
    "        if self.num_in_system > 0:\n",
    "            self.t_depart = self.clk + self.generate_service()\n",
    "        else:\n",
    "            self.t_depart = float('inf')\n",
    "            \n",
    "    def generate_interarrival(self):\n",
    "        return np.random.exponential(1/3)\n",
    "    def generate_service(self):\n",
    "        return np.random.exponential(1/4)\n",
    "\n",
    "s = Simulation()\n",
    "np.random.seed(42)"
   ]
  },
  {
   "cell_type": "code",
   "execution_count": 50,
   "metadata": {},
   "outputs": [
    {
     "data": {
      "text/plain": [
       "0.0"
      ]
     },
     "execution_count": 50,
     "metadata": {},
     "output_type": "execute_result"
    }
   ],
   "source": [
    "s.clk"
   ]
  },
  {
   "cell_type": "code",
   "execution_count": 51,
   "metadata": {},
   "outputs": [
    {
     "data": {
      "text/plain": [
       "0.15065816632232076"
      ]
     },
     "execution_count": 51,
     "metadata": {},
     "output_type": "execute_result"
    }
   ],
   "source": [
    "s.t_arrival"
   ]
  },
  {
   "cell_type": "code",
   "execution_count": 52,
   "metadata": {},
   "outputs": [],
   "source": [
    "s.advance_time()"
   ]
  },
  {
   "cell_type": "code",
   "execution_count": 53,
   "metadata": {},
   "outputs": [
    {
     "data": {
      "text/plain": [
       "1"
      ]
     },
     "execution_count": 53,
     "metadata": {},
     "output_type": "execute_result"
    }
   ],
   "source": [
    "s.num_in_system"
   ]
  },
  {
   "cell_type": "code",
   "execution_count": 54,
   "metadata": {},
   "outputs": [
    {
     "data": {
      "text/plain": [
       "0.15065816632232076"
      ]
     },
     "execution_count": 54,
     "metadata": {},
     "output_type": "execute_result"
    }
   ],
   "source": [
    "s.clk"
   ]
  },
  {
   "cell_type": "code",
   "execution_count": 55,
   "metadata": {},
   "outputs": [
    {
     "data": {
      "text/plain": [
       "0.0"
      ]
     },
     "execution_count": 55,
     "metadata": {},
     "output_type": "execute_result"
    }
   ],
   "source": [
    "s.total_wait"
   ]
  },
  {
   "cell_type": "code",
   "execution_count": 56,
   "metadata": {},
   "outputs": [
    {
     "data": {
      "text/plain": [
       "0.26797518881653554"
      ]
     },
     "execution_count": 56,
     "metadata": {},
     "output_type": "execute_result"
    }
   ],
   "source": [
    "s.t_depart"
   ]
  },
  {
   "cell_type": "code",
   "execution_count": 57,
   "metadata": {},
   "outputs": [
    {
     "data": {
      "text/plain": [
       "0"
      ]
     },
     "execution_count": 57,
     "metadata": {},
     "output_type": "execute_result"
    }
   ],
   "source": [
    "s.num_depart"
   ]
  },
  {
   "cell_type": "code",
   "execution_count": 58,
   "metadata": {},
   "outputs": [],
   "source": [
    "for i in range (100):\n",
    "    s.advance_time()"
   ]
  },
  {
   "cell_type": "code",
   "execution_count": 59,
   "metadata": {},
   "outputs": [
    {
     "data": {
      "text/plain": [
       "1"
      ]
     },
     "execution_count": 59,
     "metadata": {},
     "output_type": "execute_result"
    }
   ],
   "source": [
    "s.num_in_system"
   ]
  },
  {
   "cell_type": "code",
   "execution_count": 60,
   "metadata": {},
   "outputs": [
    {
     "data": {
      "text/plain": [
       "50"
      ]
     },
     "execution_count": 60,
     "metadata": {},
     "output_type": "execute_result"
    }
   ],
   "source": [
    "s.num_depart"
   ]
  },
  {
   "cell_type": "code",
   "execution_count": 61,
   "metadata": {},
   "outputs": [
    {
     "data": {
      "text/plain": [
       "51"
      ]
     },
     "execution_count": 61,
     "metadata": {},
     "output_type": "execute_result"
    }
   ],
   "source": [
    "s.num_arrival"
   ]
  },
  {
   "cell_type": "code",
   "execution_count": null,
   "metadata": {},
   "outputs": [],
   "source": []
  },
  {
   "cell_type": "code",
   "execution_count": null,
   "metadata": {},
   "outputs": [],
   "source": []
  }
 ],
 "metadata": {
  "kernelspec": {
   "display_name": "Python 3",
   "language": "python",
   "name": "python3"
  },
  "language_info": {
   "codemirror_mode": {
    "name": "ipython",
    "version": 3
   },
   "file_extension": ".py",
   "mimetype": "text/x-python",
   "name": "python",
   "nbconvert_exporter": "python",
   "pygments_lexer": "ipython3",
   "version": "3.6.4"
  }
 },
 "nbformat": 4,
 "nbformat_minor": 2
}
